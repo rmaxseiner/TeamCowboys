{
 "cells": [
  {
   "cell_type": "code",
   "execution_count": 1,
   "metadata": {},
   "outputs": [],
   "source": [
    "import pandas as pd\n",
    "import numpy as np\n",
    "import matplotlib\n",
    "from matplotlib import pyplot as plt\n",
    "import datetime as dt\n",
    "from math import cos,sin\n",
    "from sklearn.linear_model import LinearRegression\n",
    "from sklearn.model_selection import train_test_split\n",
    "from sklearn.metrics import mean_squared_error, r2_score\n",
    "from sklearn.gaussian_process import GaussianProcessRegressor\n",
    "from keras.layers import Dense, Activation\n",
    "from keras.models import Sequential\n",
    "from sklearn.model_selection import train_test_split\n",
    "from sklearn.preprocessing import StandardScaler\n",
    "from tensorflow import keras\n",
    "import pickle\n",
    "from sklearn.metrics import mean_absolute_error\n",
    "import keras_tuner as kt\n",
    "from tensorflow.keras.optimizers import Adam\n",
    "from sklearn.preprocessing import LabelBinarizer\n",
    "import graphviz\n",
    "import pydotplus\n",
    "import tensorflow as tf\n",
    "from keras.utils.vis_utils import plot_model"
   ]
  },
  {
   "cell_type": "code",
   "execution_count": 3,
   "metadata": {},
   "outputs": [],
   "source": [
    "df = pd.read_csv('cities_minustemps.csv',compression=\"gzip\")\n",
    "df = df.astype({'City':str, \\\n",
    "                'Latitude':'float32', \\\n",
    "                'Longitude':'float32', \\\n",
    "                'x':'float32','y':'float32', \\\n",
    "                'z':'float32', \\\n",
    "                'Month':'int32', \\\n",
    "                'Year':'int32', \\\n",
    "                'TempMinus1':'float32', 'TempMinus2':'float32','AverageTemperature':'float32'})\n",
    "\n",
    "label_binarizer = LabelBinarizer()\n",
    "  \n",
    "# fitting the column \n",
    "# TEMPERATURE to LabelBinarizer\n",
    "label_binarizer_output = label_binarizer.fit_transform( df['Month'])\n",
    "\n",
    "df = df.merge(pd.DataFrame(label_binarizer_output,columns=['January','February','March','April','May','June','July','August','September','October','November','December']).astype(bool),left_index=True,right_index=True)"
   ]
  },
  {
   "cell_type": "code",
   "execution_count": 4,
   "metadata": {
    "scrolled": true
   },
   "outputs": [],
   "source": [
    "pca_data_columns = ['Year',\n",
    " 'x','y','z',\n",
    "'TempMinus1',\n",
    "'January','February','March','April','May','June','July','August','September','October','November','December']\n",
    "\n",
    "pca_df = df[pca_data_columns+['AverageTemperature']].dropna()\n",
    "\n",
    "target_columns = ['AverageTemperature']\n"
   ]
  },
  {
   "cell_type": "code",
   "execution_count": 5,
   "metadata": {
    "scrolled": false
   },
   "outputs": [],
   "source": [
    "# Use features from RFE\n",
    "data_columns = pca_data_columns #list(rfe.feature_names_in_[rfe.support_])\n",
    "\n",
    "target_columns = ['AverageTemperature']\n",
    "\n",
    "model_df = df[data_columns+['AverageTemperature']].dropna()\n",
    "\n",
    "# Grab data and target columns\n",
    "y = model_df[target_columns]\n",
    "X = model_df[data_columns]\n",
    "X_train, X_test, y_train, y_test = train_test_split(X, y, test_size=0.33, random_state=42)\n"
   ]
  },
  {
   "cell_type": "code",
   "execution_count": 6,
   "metadata": {},
   "outputs": [
    {
     "name": "stdout",
     "output_type": "stream",
     "text": [
      "Model: \"sequential\"\n",
      "_________________________________________________________________\n",
      " Layer (type)                Output Shape              Param #   \n",
      "=================================================================\n",
      " dense (Dense)               (None, 17)                306       \n",
      "                                                                 \n",
      " dense_1 (Dense)             (None, 16)                288       \n",
      "                                                                 \n",
      " dense_2 (Dense)             (None, 16)                272       \n",
      "                                                                 \n",
      " dense_3 (Dense)             (None, 1)                 17        \n",
      "                                                                 \n",
      "=================================================================\n",
      "Total params: 883\n",
      "Trainable params: 883\n",
      "Non-trainable params: 0\n",
      "_________________________________________________________________\n"
     ]
    }
   ],
   "source": [
    "sc = StandardScaler()\n",
    "X_trains = sc.fit_transform(X_train)\n",
    "X_tests = sc.transform(X_test)\n",
    "\n",
    "#tuner.search(X_trains, y_train, epochs=5, validation_data=(X_tests, y_test))\n",
    "#model = tuner.get_best_models()[0]\n",
    "\n",
    "# Initialising the ANN\n",
    "model = Sequential()\n",
    "\n",
    "# Adding the input layer and the first hidden layer\n",
    "model.add(Dense(17, activation = 'tanh', input_dim = 17))\n",
    "\n",
    "# Adding the second hidden layer\n",
    "model.add(Dense(units = 16, activation = 'tanh'))\n",
    "\n",
    "# Adding the third hidden layer\n",
    "model.add(Dense(units = 16, activation = 'tanh'))\n",
    "\n",
    "# Adding the output layer\n",
    "model.add(Dense(units = 1))\n",
    "\n",
    "optimizer = Adam() \n",
    "\n",
    "model.compile(optimizer = optimizer,loss = 'mean_squared_error')\n",
    "\n",
    "model.summary()\n"
   ]
  },
  {
   "cell_type": "code",
   "execution_count": 7,
   "metadata": {
    "scrolled": true
   },
   "outputs": [
    {
     "name": "stdout",
     "output_type": "stream",
     "text": [
      "Epoch 1/3\n",
      "108787/108787 [==============================] - 92s 843us/step - loss: 4.1906\n",
      "Epoch 2/3\n",
      "108787/108787 [==============================] - 96s 886us/step - loss: 2.9720\n",
      "Epoch 3/3\n",
      "108787/108787 [==============================] - 95s 869us/step - loss: 2.9589\n"
     ]
    },
    {
     "data": {
      "text/plain": [
       "<keras.callbacks.History at 0x7f74a0728a60>"
      ]
     },
     "execution_count": 7,
     "metadata": {},
     "output_type": "execute_result"
    }
   ],
   "source": [
    "model.fit(X_trains, y_train, batch_size = 50, epochs = 3)"
   ]
  },
  {
   "cell_type": "code",
   "execution_count": 8,
   "metadata": {},
   "outputs": [
    {
     "data": {
      "text/plain": [
       "<keras.engine.sequential.Sequential at 0x7f749c52ca60>"
      ]
     },
     "execution_count": 8,
     "metadata": {},
     "output_type": "execute_result"
    }
   ],
   "source": [
    "model"
   ]
  },
  {
   "cell_type": "code",
   "execution_count": 10,
   "metadata": {},
   "outputs": [],
   "source": [
    "model.save('./city_monthly_nn_model.h5')"
   ]
  },
  {
   "cell_type": "code",
   "execution_count": null,
   "metadata": {},
   "outputs": [],
   "source": [
    "y_pred = model.predict(X_tests)"
   ]
  },
  {
   "cell_type": "code",
   "execution_count": 11,
   "metadata": {
    "scrolled": true
   },
   "outputs": [
    {
     "name": "stdout",
     "output_type": "stream",
     "text": [
      "Model Scores: \n",
      "r2 score:  0.9775457017717708\n",
      "mse:  2.3596883\n"
     ]
    }
   ],
   "source": [
    "print(\"Model Scores: \")\n",
    "print(\"r2 score: \",r2_score(y_pred,y_test))\n",
    "print(\"mse: \",mean_squared_error(y_pred,y_test))"
   ]
  },
  {
   "cell_type": "code",
   "execution_count": 15,
   "metadata": {
    "scrolled": false
   },
   "outputs": [
    {
     "data": {
      "image/png": "[encoded data removed]",
      "text/plain": [
       "<IPython.core.display.Image object>"
      ]
     },
     "execution_count": 15,
     "metadata": {},
     "output_type": "execute_result"
    }
   ],
   "source": [
    "plot_model(model, to_file='model_plot.png', show_shapes=True, show_layer_names=False,)"
   ]
  }
 ],
 "metadata": {
  "kernelspec": {
   "display_name": "Python 3",
   "language": "python",
   "name": "python3"
  },
  "language_info": {
   "codemirror_mode": {
    "name": "ipython",
    "version": 3
   },
   "file_extension": ".py",
   "mimetype": "text/x-python",
   "name": "python",
   "nbconvert_exporter": "python",
   "pygments_lexer": "ipython3",
   "version": "3.8.10"
  }
 },
 "nbformat": 4,
 "nbformat_minor": 4
}
