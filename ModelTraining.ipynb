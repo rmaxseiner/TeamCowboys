{
 "cells": [
  {
   "cell_type": "code",
   "execution_count": 27,
   "metadata": {},
   "outputs": [],
   "source": [
    "import pandas as pd\n",
    "import numpy as np\n",
    "import matplotlib\n",
    "from matplotlib import pyplot as plt\n",
    "import seaborn as sns\n",
    "import datetime as dt\n",
    "from sklearn.linear_model import LinearRegression\n",
    "from sklearn.model_selection import train_test_split\n",
    "from sklearn.metrics import mean_squared_error, r2_score\n",
    "from sklearn.gaussian_process import GaussianProcessRegressor\n",
    "from sklearn import linear_model\n",
    "from sklearn.linear_model import Ridge\n",
    "from sklearn.linear_model import Lasso\n",
    "from sklearn.linear_model import ElasticNet\n",
    "pd.set_option('display.max_columns', 100)\n",
    "import warnings\n",
    "warnings.filterwarnings('ignore')\n"
   ]
  },
  {
   "cell_type": "code",
   "execution_count": 28,
   "metadata": {},
   "outputs": [],
   "source": [
    "#Models to try:\n",
    "# Lasso, Gaussian Process"
   ]
  },
  {
   "cell_type": "code",
   "execution_count": 29,
   "metadata": {},
   "outputs": [],
   "source": [
    "# Load data and finalize dataset variables\n",
    "\n",
    "def load_dataset():\n",
    "    \n",
    "    by_city = pd.read_csv('GlobalLandTemperaturesByCity.csv').astype({'dt':'datetime64','AverageTemperature':'float32', \\\n",
    "                                    'AverageTemperatureUncertainty':'float32'}).rename(columns={'dt':'Date'})                                    \n",
    "    by_city['Year']= by_city['Date'].dt.year\n",
    "    by_city['Month']= by_city['Date'].dt.month\n",
    "    by_city = by_city.astype({'Year':'int32','Month':'int32'})\n",
    "    \n",
    "    by_country = pd.read_csv('GlobalLandTemperaturesByCountry.csv').astype({'dt':'datetime64','AverageTemperature':'float32', \\\n",
    "                                    'AverageTemperatureUncertainty':'float32'}).rename(columns={'dt':'Date'})\n",
    "                                    \n",
    "    by_country['Year']= by_country['Date'].dt.year\n",
    "    by_country['Month']= by_country['Date'].dt.month\n",
    "    by_country = by_country.astype({'Year':'int32','Month':'int32'})\n",
    "    \n",
    "    globaltemp_df = pd.read_csv(\"GlobalTemperatures.csv\").astype({'dt':'datetime64'}).rename(columns={'dt':'Date'})\n",
    "    globaltemp_df['Year']= globaltemp_df['Date'].dt.year\n",
    "    globaltemp_df['Month']= globaltemp_df['Date'].dt.month\n",
    "    \n",
    "    df_fuel = pd.read_csv(\"annual-change-fossil-fuels-coal-gas-oil.csv\")\n",
    "    df_fuel.rename(columns = {'Entity':'Country', 'Fossil.fuels..TWh.growth...sub.method.':'FossilFuelGrowth', \n",
    "                          'Coal..TWh.growth...sub.method.':'CoalGrowth', 'Gas..TWh.growth...sub.method.':'GasGrowth',\n",
    "                         'Oil..TWh.growth...sub.method.':'OilGrowth'}, inplace = True)\n",
    "    df = df_fuel.merge(by_country,on=[\"Country\",\"Year\"]).reset_index()\n",
    "    natural_resources = pd.read_csv(\"natural-resources.csv\").rename(columns={'Entity':'Country'})\n",
    "    natural_resources = natural_resources[[\"Year\",\"Country\",\"Gas consumption\",\"Coal consumption\",\"Oil consumption\",\"Population\"]]\n",
    "    df = df.merge(natural_resources,on=['Year','Country'])\n",
    "    df = df.drop('index',axis=1)[[\"Year\",\"Country\",\"Population\",\"Date\",\"Month\",\"Gas consumption\",\"Coal consumption\",\"Oil consumption\"]]\n",
    "    \n",
    "    \n",
    "    df = df.merge(by_country,on=['Year','Date','Country']).dropna().drop('Month_x',axis=1).rename(columns={'Month_y': \\\n",
    "                                                   'Month'}).groupby(['Year','Country']).mean().drop(\"Month\",axis=1).reset_index()\n",
    "    \n",
    "    model_df = pd.DataFrame()\n",
    "    for country in df.Country.unique():\n",
    "        mydf = df.query(\"Country == '\"+country+\"'\")\n",
    "        mydf['TempMinus1'] = mydf.shift(1)['AverageTemperature']\n",
    "        mydf['TempMinus2'] = mydf.shift(2)['AverageTemperature']\n",
    "        mydf['TempMinus3'] = mydf.shift(3)['AverageTemperature']\n",
    "        model_df = pd.concat([model_df,mydf])\n",
    "    model_df = model_df.dropna()\n",
    "    return model_df\n",
    "    "
   ]
  },
  {
   "cell_type": "code",
   "execution_count": 30,
   "metadata": {},
   "outputs": [],
   "source": [
    "def train_model(X,y,type=\"Ridge\"):\n",
    "    X_train, X_test, y_train, y_test = train_test_split(X, y, test_size=0.33, random_state=42)\n",
    "    \n",
    "    if type == \"LinearRegression\":\n",
    "        lm = LinearRegression().fit(X_train,y_train)\n",
    "    elif type == \"ElasticNet\":\n",
    "        lm = ElasticNet(alpha=0.1).fit(X_train,y_train)\n",
    "    elif type == \"Ridge\":\n",
    "        lm = Ridge(alpha=0.1).fit(X_train,y_train)\n",
    "    elif type == \"Lasso\":\n",
    "        lm = Lasso(alpha=0.1).fit(X_train,y_train)\n",
    "    else:\n",
    "        lm = LinearRegression().fit(X_train,y_train)\n",
    "    \n",
    "    print(\"r2 score: \",r2_score(lm.predict(X_test),y_test))\n",
    "    print(\"mse: \",mean_squared_error(lm.predict(X_test),y_test))\n",
    "    return lm\n",
    "    "
   ]
  },
  {
   "cell_type": "code",
   "execution_count": 31,
   "metadata": {
    "scrolled": true
   },
   "outputs": [
    {
     "name": "stdout",
     "output_type": "stream",
     "text": [
      "Model Type:  LinearRegression\n",
      "r2 score:  0.996561525038971\n",
      "mse:  0.32067360842370746\n",
      "Model Type:  Lasso\n",
      "r2 score:  0.9965583140293849\n",
      "mse:  0.320137753471614\n",
      "Model Type:  Ridge\n",
      "r2 score:  0.9965615285088939\n",
      "mse:  0.32067308592105975\n",
      "Model Type:  ElasticNet\n",
      "r2 score:  0.9965602342414729\n",
      "mse:  0.3202293422920476\n"
     ]
    }
   ],
   "source": [
    "df = load_dataset()\n",
    "y = df[['AverageTemperature']]\n",
    "X = df[['Population','Gas consumption','Oil consumption','Coal consumption','TempMinus1','TempMinus2','TempMinus3']]\n",
    "for model in ['LinearRegression','Lasso','Ridge','ElasticNet']:\n",
    "    print(\"Model Type: \",model)\n",
    "    lm = lm = train_model(X,y,model)\n"
   ]
  },
  {
   "cell_type": "code",
   "execution_count": null,
   "metadata": {},
   "outputs": [],
   "source": []
  }
 ],
 "metadata": {
  "kernelspec": {
   "display_name": "Python 3",
   "language": "python",
   "name": "python3"
  },
  "language_info": {
   "codemirror_mode": {
    "name": "ipython",
    "version": 3
   },
   "file_extension": ".py",
   "mimetype": "text/x-python",
   "name": "python",
   "nbconvert_exporter": "python",
   "pygments_lexer": "ipython3",
   "version": "3.8.10"
  }
 },
 "nbformat": 4,
 "nbformat_minor": 4
}
