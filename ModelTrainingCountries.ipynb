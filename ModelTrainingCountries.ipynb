{
 "cells": [
  {
   "cell_type": "code",
   "execution_count": 1,
   "metadata": {},
   "outputs": [],
   "source": [
    "import pandas as pd\n",
    "import numpy as np\n",
    "import matplotlib\n",
    "from matplotlib import pyplot as plt\n",
    "import seaborn as sns\n",
    "import datetime as dt\n",
    "from math import cos,sin\n",
    "from sklearn.decomposition import PCA\n",
    "from sklearn.ensemble import RandomForestRegressor\n",
    "from sklearn.svm import SVR\n",
    "from sklearn.pipeline import Pipeline\n",
    "from sklearn.feature_selection import RFE\n",
    "from sklearn.ensemble import ExtraTreesClassifier\n",
    "from sklearn.preprocessing import StandardScaler\n",
    "from sklearn.linear_model import LinearRegression\n",
    "from sklearn.model_selection import train_test_split\n",
    "from sklearn.metrics import mean_squared_error, r2_score\n",
    "from sklearn.gaussian_process import GaussianProcessRegressor\n",
    "from sklearn import linear_model\n",
    "from sklearn.linear_model import Ridge\n",
    "from sklearn.linear_model import Lasso\n",
    "from sklearn.linear_model import ElasticNet\n",
    "pd.set_option('display.max_columns', 100)\n",
    "import warnings\n",
    "warnings.filterwarnings('ignore')\n"
   ]
  },
  {
   "cell_type": "code",
   "execution_count": 2,
   "metadata": {},
   "outputs": [],
   "source": [
    "# Function to transform latitudes and longitudes into x,y,z \n",
    "\n",
    "def x_and_y(row,lat,lon):\n",
    "    row['x'] = cos(lat) * cos(lon)\n",
    "    row['y'] = cos(lat) * sin(lon)\n",
    "    row['z'] = sin(lat)\n",
    "    return row"
   ]
  },
  {
   "cell_type": "code",
   "execution_count": 4,
   "metadata": {
    "scrolled": false
   },
   "outputs": [],
   "source": [
    "# Load data and finalize dataset variables\n",
    "\n",
    "lats = pd.read_csv('data/countries_lat_long.csv')\n",
    "\n",
    "df = pd.read_csv('data/YearlyByCountry.csv')\n",
    "\n",
    "# Drop index column from csv\n",
    "df = df.drop('Unnamed: 0',axis=1)\n",
    "\n",
    "# Merge in latitudes/longitudes and set up dataframe for a fancy apply step to convert lats/lon to x,y,z\n",
    "df = df.merge(lats[['Country','Latitude','Longitude']],on='Country')\n",
    "df_copy = df.copy()\n",
    "df_copy['x'] = 0\n",
    "df_copy['y'] = 0\n",
    "df_copy['z'] = 0\n",
    "\n",
    "# This applies the x,y,z transformation to a copy and then merges them into df\n",
    "df=df.merge(df_copy[['Latitude','Longitude','x','y','z']].apply( \\\n",
    "                lambda row: x_and_y(row,row[\"Latitude\"],row[\"Longitude\"]),axis=1)[['x','y','z']], \\\n",
    "            left_index=True,right_index=True)\n",
    "df.tail(3)\n",
    "df.to_csv('data/countries_processed_data.csv')"
   ]
  },
  {
   "cell_type": "code",
   "execution_count": 26,
   "metadata": {},
   "outputs": [],
   "source": [
    "def train_model(X,y,type=\"Ridge\"):\n",
    "    X_train, X_test, y_train, y_test = train_test_split(X, y, test_size=0.33, random_state=42)\n",
    "    \n",
    "    if type == \"LinearRegression\":\n",
    "        lm = LinearRegression().fit(X_train,y_train)\n",
    "    elif type == \"ElasticNet\":\n",
    "        pipe = Pipeline([('scaler', StandardScaler()), ('EN', ElasticNet(alpha=0.1))])\n",
    "        lm = pipe.fit(X_train, y_train)\n",
    "        #lm = ElasticNet(alpha=0.1).fit(X_train,y_train)\n",
    "    elif type == \"Ridge\":\n",
    "        lm = Ridge(alpha=0.1).fit(X_train,y_train)\n",
    "    elif type == \"Lasso\":\n",
    "        lm = Lasso(alpha=0.1).fit(X_train,y_train)\n",
    "    else:\n",
    "        lm = LinearRegression().fit(X_train,y_train)\n",
    "    \n",
    "    print(\"r2 score: \",r2_score(lm.predict(X_test),y_test))\n",
    "    print(\"mse: \",mean_squared_error(lm.predict(X_test),y_test))\n",
    "    \n",
    "    return lm, X_train, X_test, y_train, y_test\n",
    "    "
   ]
  },
  {
   "cell_type": "code",
   "execution_count": 39,
   "metadata": {},
   "outputs": [
    {
     "name": "stdout",
     "output_type": "stream",
     "text": [
      "[ True  True  True  True  True False False False False False False  True\n",
      "  True  True  True False  True False]\n",
      "[1 1 1 1 1 5 7 2 8 3 6 1 1 1 1 9 1 4]\n"
     ]
    }
   ],
   "source": [
    "pca_data_columns = ['Population',\n",
    " 'Gas consumption',\n",
    " 'Coal consumption',\n",
    " 'Oil consumption',\n",
    " 'Gas cumsum',\n",
    " 'Coal cumsum',\n",
    " 'Oil cumsum',\n",
    " 'FossilFuelGrowth',\n",
    " 'CoalGrowth',\n",
    " 'GasGrowth',\n",
    " 'OilGrowth',\n",
    " 'TempMinus1',\n",
    " 'TempMinus2',\n",
    " #'TempMinus5', # <- I removed this because it causes too many missing values.\n",
    " 'x','y','z',\n",
    " 'Latitude',\n",
    " 'Longitude']\n",
    "\n",
    "pca_df = df[pca_data_columns+['AverageTemperature']].dropna()\n",
    "\n",
    "target_columns = ['AverageTemperature']\n",
    "\n",
    "# create the RFE model and select 10 attributes\n",
    "rfe = RFE(estimator=RandomForestRegressor(), n_features_to_select=10)\n",
    "rfe = rfe.fit(pca_df[pca_data_columns], pca_df[target_columns])\n",
    "# summarize the selection of the attributes\n",
    "print(rfe.support_)\n",
    "print(rfe.ranking_)"
   ]
  },
  {
   "cell_type": "code",
   "execution_count": 37,
   "metadata": {},
   "outputs": [
    {
     "ename": "AttributeError",
     "evalue": "'RFE' object has no attribute 'feature_names_in_'",
     "output_type": "error",
     "traceback": [
      "\u001b[1;31m---------------------------------------------------------------------------\u001b[0m",
      "\u001b[1;31mAttributeError\u001b[0m                            Traceback (most recent call last)",
      "\u001b[1;32mC:\\Users\\RONMAX~1\\AppData\\Local\\Temp/ipykernel_27772/2029489724.py\u001b[0m in \u001b[0;36m<module>\u001b[1;34m\u001b[0m\n\u001b[1;32m----> 1\u001b[1;33m \u001b[0mrfe\u001b[0m\u001b[1;33m.\u001b[0m\u001b[0mfeature_names_in_\u001b[0m\u001b[1;33m[\u001b[0m\u001b[0mrfe\u001b[0m\u001b[1;33m.\u001b[0m\u001b[0msupport_\u001b[0m\u001b[1;33m]\u001b[0m\u001b[1;33m\u001b[0m\u001b[1;33m\u001b[0m\u001b[0m\n\u001b[0m",
      "\u001b[1;31mAttributeError\u001b[0m: 'RFE' object has no attribute 'feature_names_in_'"
     ]
    }
   ],
   "source": [
    "rfe.feature_names_in_[rfe.support_]"
   ]
  },
  {
   "cell_type": "code",
   "execution_count": 32,
   "metadata": {
    "scrolled": false
   },
   "outputs": [
    {
     "ename": "AttributeError",
     "evalue": "'RFE' object has no attribute 'feature_names_in_'",
     "output_type": "error",
     "traceback": [
      "\u001b[1;31m---------------------------------------------------------------------------\u001b[0m",
      "\u001b[1;31mAttributeError\u001b[0m                            Traceback (most recent call last)",
      "\u001b[1;32mC:\\Users\\RONMAX~1\\AppData\\Local\\Temp/ipykernel_27772/3287427246.py\u001b[0m in \u001b[0;36m<module>\u001b[1;34m\u001b[0m\n\u001b[0;32m      1\u001b[0m \u001b[1;31m# Use features from RFE\u001b[0m\u001b[1;33m\u001b[0m\u001b[1;33m\u001b[0m\u001b[0m\n\u001b[1;32m----> 2\u001b[1;33m \u001b[0mdata_columns\u001b[0m \u001b[1;33m=\u001b[0m \u001b[0mlist\u001b[0m\u001b[1;33m(\u001b[0m\u001b[0mrfe\u001b[0m\u001b[1;33m.\u001b[0m\u001b[0mfeature_names_in_\u001b[0m\u001b[1;33m[\u001b[0m\u001b[0mrfe\u001b[0m\u001b[1;33m.\u001b[0m\u001b[0msupport_\u001b[0m\u001b[1;33m]\u001b[0m\u001b[1;33m)\u001b[0m\u001b[1;33m\u001b[0m\u001b[1;33m\u001b[0m\u001b[0m\n\u001b[0m\u001b[0;32m      3\u001b[0m \u001b[0mtarget_columns\u001b[0m \u001b[1;33m=\u001b[0m \u001b[1;33m[\u001b[0m\u001b[1;34m'AverageTemperature'\u001b[0m\u001b[1;33m]\u001b[0m\u001b[1;33m\u001b[0m\u001b[1;33m\u001b[0m\u001b[0m\n\u001b[0;32m      4\u001b[0m \u001b[1;33m\u001b[0m\u001b[0m\n\u001b[0;32m      5\u001b[0m \u001b[0mmodel_df\u001b[0m \u001b[1;33m=\u001b[0m \u001b[0mdf\u001b[0m\u001b[1;33m[\u001b[0m\u001b[0mdata_columns\u001b[0m\u001b[1;33m+\u001b[0m\u001b[1;33m[\u001b[0m\u001b[1;34m'AverageTemperature'\u001b[0m\u001b[1;33m]\u001b[0m\u001b[1;33m]\u001b[0m\u001b[1;33m.\u001b[0m\u001b[0mdropna\u001b[0m\u001b[1;33m(\u001b[0m\u001b[1;33m)\u001b[0m\u001b[1;33m\u001b[0m\u001b[1;33m\u001b[0m\u001b[0m\n",
      "\u001b[1;31mAttributeError\u001b[0m: 'RFE' object has no attribute 'feature_names_in_'"
     ]
    }
   ],
   "source": [
    "# Use features from RFE\n",
    "data_columns = list(rfe.feature_names_in_[rfe.support_])\n",
    "target_columns = ['AverageTemperature']\n",
    "\n",
    "model_df = df[data_columns+['AverageTemperature']].dropna()\n",
    "\n",
    "# Grab data and target columns\n",
    "y = model_df[target_columns]\n",
    "X = model_df[data_columns]\n",
    "\n",
    "#\n",
    "for model in ['LinearRegression','Lasso','ElasticNet','Ridge']:\n",
    "    print(\"Model Type: \",model)\n",
    "    lm, X_train, X_test, y_train, y_test = train_model(X,y,model)\n"
   ]
  },
  {
   "cell_type": "code",
   "execution_count": 30,
   "metadata": {},
   "outputs": [
    {
     "ename": "NameError",
     "evalue": "name 'X_test' is not defined",
     "output_type": "error",
     "traceback": [
      "\u001b[1;31m---------------------------------------------------------------------------\u001b[0m",
      "\u001b[1;31mNameError\u001b[0m                                 Traceback (most recent call last)",
      "\u001b[1;32mC:\\Users\\RONMAX~1\\AppData\\Local\\Temp/ipykernel_27772/499142301.py\u001b[0m in \u001b[0;36m<module>\u001b[1;34m\u001b[0m\n\u001b[1;32m----> 1\u001b[1;33m \u001b[0mscore_df\u001b[0m \u001b[1;33m=\u001b[0m \u001b[0mdf\u001b[0m\u001b[1;33m.\u001b[0m\u001b[0mloc\u001b[0m\u001b[1;33m[\u001b[0m\u001b[0mX_test\u001b[0m\u001b[1;33m.\u001b[0m\u001b[0mindex\u001b[0m\u001b[1;33m]\u001b[0m\u001b[1;33m[\u001b[0m\u001b[1;33m[\u001b[0m\u001b[1;34m'AverageTemperature'\u001b[0m\u001b[1;33m]\u001b[0m\u001b[1;33m]\u001b[0m\u001b[1;33m\u001b[0m\u001b[1;33m\u001b[0m\u001b[0m\n\u001b[0m\u001b[0;32m      2\u001b[0m \u001b[0mscore_df\u001b[0m\u001b[1;33m[\u001b[0m\u001b[1;34m'Model Prediction'\u001b[0m\u001b[1;33m]\u001b[0m \u001b[1;33m=\u001b[0m \u001b[0mlm\u001b[0m\u001b[1;33m.\u001b[0m\u001b[0mpredict\u001b[0m\u001b[1;33m(\u001b[0m\u001b[0mX_test\u001b[0m\u001b[1;33m)\u001b[0m\u001b[1;33m\u001b[0m\u001b[1;33m\u001b[0m\u001b[0m\n\u001b[0;32m      3\u001b[0m \u001b[0mscore_df\u001b[0m\u001b[1;33m[\u001b[0m\u001b[1;34m'Minus1 Prediction'\u001b[0m\u001b[1;33m]\u001b[0m \u001b[1;33m=\u001b[0m \u001b[0mdf\u001b[0m\u001b[1;33m.\u001b[0m\u001b[0mloc\u001b[0m\u001b[1;33m[\u001b[0m\u001b[0mX_test\u001b[0m\u001b[1;33m.\u001b[0m\u001b[0mindex\u001b[0m\u001b[1;33m]\u001b[0m\u001b[1;33m[\u001b[0m\u001b[1;34m'TempMinus1'\u001b[0m\u001b[1;33m]\u001b[0m\u001b[1;33m\u001b[0m\u001b[1;33m\u001b[0m\u001b[0m\n\u001b[0;32m      4\u001b[0m \u001b[0mscore_df\u001b[0m \u001b[1;33m=\u001b[0m \u001b[0mscore_df\u001b[0m\u001b[1;33m.\u001b[0m\u001b[0msort_values\u001b[0m\u001b[1;33m(\u001b[0m\u001b[0mby\u001b[0m \u001b[1;33m=\u001b[0m \u001b[1;34m'AverageTemperature'\u001b[0m\u001b[1;33m)\u001b[0m\u001b[1;33m\u001b[0m\u001b[1;33m\u001b[0m\u001b[0m\n\u001b[0;32m      5\u001b[0m \u001b[0mscore_df\u001b[0m\u001b[1;33m[\u001b[0m\u001b[1;33m[\u001b[0m\u001b[1;34m'AverageTemperature'\u001b[0m\u001b[1;33m,\u001b[0m\u001b[1;34m'Model Prediction'\u001b[0m\u001b[1;33m,\u001b[0m\u001b[1;34m'Minus1 Prediction'\u001b[0m\u001b[1;33m]\u001b[0m\u001b[1;33m]\u001b[0m\u001b[1;33m\u001b[0m\u001b[1;33m\u001b[0m\u001b[0m\n",
      "\u001b[1;31mNameError\u001b[0m: name 'X_test' is not defined"
     ]
    }
   ],
   "source": [
    "score_df = df.loc[X_test.index][['AverageTemperature']]\n",
    "score_df['Model Prediction'] = lm.predict(X_test)\n",
    "score_df['Minus1 Prediction'] = df.loc[X_test.index]['TempMinus1']\n",
    "score_df = score_df.sort_values(by = 'AverageTemperature')\n",
    "score_df[['AverageTemperature','Model Prediction','Minus1 Prediction']]"
   ]
  },
  {
   "cell_type": "code",
   "execution_count": null,
   "metadata": {},
   "outputs": [],
   "source": [
    "print(\"Model Scores: \")\n",
    "print(\"r2 score: \",r2_score(lm.predict(X_test),y_test))\n",
    "print(\"mse: \",mean_squared_error(lm.predict(X_test),y_test))\n",
    "print()\n",
    "print(\"Simple Lag Model Scores: \")\n",
    "print(\"r2 score: \",r2_score(X_test['TempMinus1'],y_test))\n",
    "print(\"mse: \",mean_squared_error(X_test['TempMinus1'],y_test))"
   ]
  },
  {
   "cell_type": "code",
   "execution_count": null,
   "metadata": {},
   "outputs": [],
   "source": []
  }
 ],
 "metadata": {
  "kernelspec": {
   "display_name": "Python 3 (ipykernel)",
   "language": "python",
   "name": "python3"
  },
  "language_info": {
   "codemirror_mode": {
    "name": "ipython",
    "version": 3
   },
   "file_extension": ".py",
   "mimetype": "text/x-python",
   "name": "python",
   "nbconvert_exporter": "python",
   "pygments_lexer": "ipython3",
   "version": "3.9.7"
  }
 },
 "nbformat": 4,
 "nbformat_minor": 4
}
